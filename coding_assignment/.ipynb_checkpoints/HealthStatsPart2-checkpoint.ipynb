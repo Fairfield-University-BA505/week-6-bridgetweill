{
 "cells": [
  {
   "cell_type": "markdown",
   "metadata": {},
   "source": [
    "# Health Stats Part 1: Waist 2 Hip Ratios"
   ]
  },
  {
   "cell_type": "markdown",
   "metadata": {},
   "source": [
    "#### <b>Overview:</b>\n",
    "- The waist-hip ratio (WHR) is the ratio of the circumference of the waist to the hips.\n",
    "- It is used to indicate/measure health, & the risk of serious health conditions developing.\n",
    "\n",
    "#### <b>How to Measure:</b>\n",
    "- Stand with their feet close together, arms at the side, body weight distributed evenly, little clothing, & take the measurement at the end of respiration.\n",
    "- Measure twice; and use the average of the measurements if they  are within a cm of eachother (they should not be more than a cm difference in measurements, if so, repeat measurement).\n",
    "- Waist should be measured at the smallest circumference of the natural waist (just above the belly button). \n",
    "- Hip circumference should be measured around the widest part of the buttocks.\n",
    "- The Waist to Hip ratio is calculated by the waist measurement divided by the hip measurement.\n",
    "- $ ratio_{w2h} = \\frac{w}{h} $\n",
    "\n",
    "<img src = 'https://upload.wikimedia.org/wikipedia/commons/d/dd/Waist-hip_ratio.svg' />\n",
    "\n",
    "#### <b>What does the measurement tell you?:</b>\n",
    "<ol>\n",
    "    <li><i>Stress:</i></First item>\n",
    "    <ul>\n",
    "<li>Women with a combined normal BMI and high WHR experience higher cortisol reactivity to acute stressers and failure to habituate to repeated stressors as compared to women with normal WHR. (Higher WHR = Higher amounts of stress)<ul>\n",
    "<li>Cortisol: anti-stress hormone; regulated by the hypothalamic-pituitary-adrenal (HPA) axis & has been associated with higher leverls of abdominal fat leading to a higher WHR.</li>\n",
    "    </ul>\n",
    "    </li>\n",
    "    </ul>\n",
    "<li><i>Health:</i></Second item>\n",
    "    <ul>\n",
    "<li>People who carry more weight around their hips (\"apple shaped body\") have a higher risk of heart disease, type 2 diabetes, & premature death than those who carry more weight in their hips and thighs (\"pear shaped body\")</li>\n",
    "<li>Even with a normal BMI, these risks can be increased according to WHR.</li>\n",
    "    </ul>\n",
    "<li><i>Growth & Development:</i></Third item>\n",
    "    <ul>\n",
    "<li>Adults: Higher WHR's = Higher growth hormone deficiencies<ul>\n",
    "<li>Adults with untreated congenital isolated growth hormone deficiency have higher WHRs. This can be from increased cortisone.</li>\n",
    "    </ul>\n",
    "    </li>\n",
    "<li>Pre-pubertal children: WHRs can help predict growth response effectiveness to artificial growth hormone therapies of pre-pubertal childred with growth deficiencies.</li>\n",
    "    </ul>\n",
    "    </li>\n",
    "    </ul>\n",
    "<li><i>Sex Characteristics:</i></Fourth item>\n",
    "    <ul>\n",
    "<li>Males with CAH have higher WHRs<ul>\n",
    "<li>CAH: congenital adrenal hyperplasia: genetic disorder where the adrenal glands do not work properly.</li>\n",
    "    </ul>\n",
    "    </li>\n",
    "    </ul>\n",
    "<li><i>Fertility:</i></Fifth item>\n",
    "<ul>\n",
    "<li>Women:<ul>\n",
    "<li>Women with WHRs within the 0.7 range have ideal estrogen levels and are less susceptible to major diseases.</li>\n",
    "<li>Women with WHRs 0.8 or higher have lower pregnancy rates that women with WHRs of 0.70-0.79.</li>\n",
    "<li>Lower WHRs show earlier pubertal endocrine activity.</li>\n",
    "<li>WHRs increase during menopause.</li>\n",
    "    </ul>\n",
    "    </li>\n",
    "<li>Men:<ul>\n",
    "<li>Men with WHRs around 0,9 are healthier, & more fertile with less prostate and testicular cancer.</li>\n",
    "<li>As males get older, they gain more abdominal fat and their WHRs increase as androgen levels decrease.</li>\n",
    "    </ul>\n",
    "    </li>\n",
    "    </ul>\n",
    "<li><i>Cognative Abilities:</i></Sixth item>\n",
    "    <ul>\n",
    "<li>Studies have shown a correlation between a child's performance on cognative tests and their mother's WHR.</li>\n",
    "<li>Mothers with wide hips and a low WHR = higher scores.</li>\n",
    "<li>Teen birth: children of low WHR teens were at less risk of the cognative defects usually associated with teen birth.</li>\n",
    "    </ul>\n",
    "<li><i>Female Attractiveness:</i></Seventh item>\n",
    "    <ul>\n",
    "<li>Women with a 0.7 WHR are rated more attractive by men</li>\n",
    "<li>Preference may vary:<ul>\n",
    "<li>China, South America, & some of Africa: 0.6.</li>\n",
    "<li>Cameroon & among the Hadza tribe of Tanzania: 0.8.</li>\n",
    "    </ul>\n",
    "    </li>\n",
    "<li>Men in westerized societies are more influenced by female waist size over hip size.<ul>\n",
    "<li>The normal range of female WHR are higher in western cultures.</li>\n",
    "<li>WHR indications vary from population to population.</li>\n",
    "    </ul>\n",
    "    </li>\n",
    "<li>Explaining the various studies:<ul>\n",
    "<li>In one study, men were asked to evaluate altered images of the same woman; men were fixated on breast size, but selected the images with a 0.7 WHR.</li>\n",
    "<li>In another study, it was determined that men saw higher WHR as more masculine and lower WHR was more feminine. Men with lower WHR havel lower self-esteem than men with higher WHR.</li>\n",
    "<li>Another study done by 137 women determined that the effect of breast size on judging attractiveness and age estimation depended on overall body fat and the WHR. It resulted in the females rating lower WHRs as more attractive and healthy, but the higher WHRs were rated more nicely and understanding than the males rated them; breast size did not have much of an influence on the female participants.</li>\n",
    "<li>Women and men with mismatched WHRs most likely view the opposite sex as unattractive.</li>\n",
    "    </ul>\n",
    "    </li>\n",
    "    </ul>\n",
    "<li><i>Food:</i></Eighth item>\n",
    "    <ul>\n",
    "<li>Whole-grain, ready-to-eat, oat cereal diets reduce waist circumference in overweight/obese adults more than low-fiber control food diets.</li>\n",
    "<li>Diets high in fruit & dairy & low in white bread, processed meat, margarine, & soft drinks can prevent abdominal fat. </li>\n",
    "    </ul>\n",
    "    </ol>\n",
    " \n",
    "#### <b>Tables:</b>\n",
    "<ol>\n",
    "    <li><i>Wikipedia Table:</i></First item>\n",
    "    <ul>\n",
    "    <li>The following table categorizes WHRs into underweight, normal  weight, overweight, and obese for men and women as defined by DGSP, WHO, & NIDDK.<ul>\n",
    "        <li> DGSP: Dt. Gesellschaft für Sportmedizin und Prävention </li>\n",
    "        <li> WHO: World Health Organization</li>\n",
    "        <li> NIDDK: National Institute of Diabetes, Digestive and Kidney Diseases</li>\n",
    "        </ul>\n",
    "    <li> Average WHR for obese men ans women according to each organization:<ul>\n",
    "        <li> Women: WHR 0.83 and above </li>\n",
    "        <li> Men: WHR 0.97 and above <ul>\n",
    "            <li> These WHR have increased health risks due to fat distribution</li>\n",
    "        </ul>\n",
    "        </li>\n",
    "        </ul>\n",
    "        </ul>\n",
    "</br>     \n",
    "<table style=\"width:90%\">\n",
    "    <caption style=\"font-size:12pt; font-weight:bold\" >Waist-Hip Ratio</caption>\n",
    "    <tr align=\"center\" style=\"border-left: 2px solid black; border-top: 2px solid black; border-right: 2px solid black\">\n",
    "       <th style=\"border-right: 2px solid black\"><i></i></th>\n",
    "       <th colspan=\"2\" style=\"border-right: 2px solid black; border-bottom: 1px solid gray\">DGSP</th>\n",
    "       <th colspan=\"2\" style=\"border-right: 2px solid black; border-bottom: 1px solid gray\">WHO</th>\n",
    "       <th colspan=\"2\" style=\"border-bottom: 1px solid gray\">NIDDK</th>\n",
    "     </tr>\n",
    "     <tr align=\"center\"style=\"border-bottom: 2px solid black; border-left: 2px solid black; border-right: 2px solid black\">\n",
    "        <th style=\"border-right: 2px solid black\"><i></i></th>\n",
    "        <th style=\"border-right: 1px solid gray\">Women</th>\n",
    "            <th style=\"border-right: 2px solid black\">Men</th>\n",
    "        <th style=\"border-right: 1px solid gray\">Women</th>\n",
    "        <th style=\"border-right: 2px solid black\">Men</th>\n",
    "            <th style=\"border-right: 1px solid gray\">Women</th>\n",
    "        <th>Men</th>\n",
    "     </tr>\n",
    "     <tr style=\"border-left: 2px solid black; border-right: 2px solid black\">\n",
    "        <th align=\"left\" style=\"border-right: 2px solid black\">Underweight</th>\n",
    "        <td align=\"center\" style=\"border-right: 1px solid gray\">?</td>\n",
    "        <td align=\"center\" style=\"border-right: 2px solid black\">?</td>\n",
    "        <td align=\"center\" style=\"border-right: 1px solid gray\">?</td>\n",
    "        <td align=\"center\" style=\"border-right: 2px solid black\">?</td>\n",
    "        <td align=\"center\" style=\"border-right: 1px solid gray\">?</td>\n",
    "        <td align=\"center\">?</td>\n",
    "     </tr>\n",
    "     <tr style=\"border-left: 2px solid black; border-right: 2px solid black\">\n",
    "        <th align=\"left\" style=\"border-right: 2px solid black\">Normal Weight</th>\n",
    "        <td align=\"center\" style=\"border-right: 1px solid gray\">&lt;0.80</td>\n",
    "        <td align=\"center\" style=\"border-right: 2px solid black\">&lt;0.90</td>\n",
    "        <td align=\"center\" style=\"border-right: 1px solid gray\">?</td>\n",
    "        <td align=\"center\" style=\"border-right: 2px solid black\">?</td>\n",
    "        <td align=\"center\" style=\"border-right: 1px solid gray\">?</td>\n",
    "        <td align=\"center\">?</td>\n",
    "     </tr>\n",
    "     <tr style=\"border-left: 2px solid black; border-right: 2px solid black\">\n",
    "        <th align=\"left\" style=\"border-right: 2px solid black\">Overweight</th>\n",
    "        <td align=\"center\" style=\"border-right: 1px solid gray\">0.80-0.84</td>\n",
    "        <td align=\"center\" style=\"border-right: 2px solid black\">0.90-0.99</td>\n",
    "        <td align=\"center\" style=\"border-right: 1px solid gray\">?</td>\n",
    "        <td align=\"center\" style=\"border-right: 2px solid black\">?</td>\n",
    "        <td align=\"center\" style=\"border-right: 1px solid gray\">?</td>\n",
    "        <td align=\"center\">?</td>\n",
    "     </tr>\n",
    "     <tr style=\"border-left: 2px solid black; border-bottom: 2px solid black; border-right: 2px solid black\">\n",
    "        <th align=\"left\" style=\"border-right: 2px solid black\">Obese</th>\n",
    "        <td align=\"center\" style=\"border-right: 1px solid gray\">&gt;0.85</td>\n",
    "        <td align=\"center\" style=\"border-right: 2px solid black\">&gt;1.00</td>\n",
    "        <td align=\"center\" style=\"border-right: 1px solid gray\">&gt;0.85</td>\n",
    "        <td align=\"center\" style=\"border-right: 2px solid black\">&gt;0.90</td>\n",
    "        <td align=\"center\" style=\"border-right: 1px solid gray\">&gt;0.80</td>\n",
    "        <td align=\"center\">&gt;1.00</td>  \n",
    "    </tr>\n",
    "            </table>\n",
    "</br>           \n",
    "<li><i>Healthline Table:</i></Second item>\n",
    "<ul>\n",
    "    <li>The following table categorizes health risk of WHRs into low, moderate, and high.<ul>\n",
    "        <li> Women:<ul>\n",
    "            <li>0.80 or lower are at low health risk</li>\n",
    "            <li>0.86 and higher are at high health risk<ul>\n",
    "                </ul>\n",
    "            </ul>\n",
    "        <li> Men:<ul>\n",
    "            <li>0.95 or lower are at low health risk</li>\n",
    "            <li>1.0 or higher are at high health risk</li>\n",
    "        </ul>\n",
    "        </li>\n",
    "        </ul>\n",
    "        </ul>\n",
    "</br>\n",
    "<table style=\"width:60%\">\n",
    "    <caption style=\"font-size:12pt; font-weight:bold\" >Waist-to-hip ratio chart</caption>\n",
    "    <tr align=\"center\" style=\"border-left: 2px solid black; border-top: 2px solid black; border-right: 2px solid black\">\n",
    "       <th align=\"center\" style=\"border-center: 2px solid black; border-bottom: 2px solid black\">Health risk</th>\n",
    "       <th align=\"center\" style=\"border-center: 2px solid black; border-bottom: 2px solid black\">Women</th>\n",
    "       <th style=\"border-bottom: 2px solid black\">Men</th>\n",
    "     </tr>\n",
    "     <tr style=\"border-left: 2px solid black; border-right: 2px solid black\">\n",
    "        <th align=\"left\" style=\"border-right: 1px solid black\">Low</th>\n",
    "        <td align=\"center\" style=\"border-right: 1px solid gray\">0.80 or Lower</td>\n",
    "        <td align=\"center\" style=\"border-right: 2px solid black\">0.95 or lower</td>\n",
    "     </tr>\n",
    "     <tr style=\"border-left: 2px solid black; border-right: 2px solid black\">\n",
    "        <th align=\"left\" style=\"border-right: 1px solid black\">Moderate</th>\n",
    "        <td align=\"center\" style=\"border-right: 1px solid gray\">0.81-0.85</td>\n",
    "        <td align=\"center\" style=\"border-right: 2px solid black\">0.96-1.0</td>\n",
    "        </tr>\n",
    "     <tr style=\"border-left: 2px solid black; border-right: 2px solid black; border-bottom: 2px solid black\">\n",
    "        <th align=\"left\" style=\"border-right: 1px solid black\">High</th>\n",
    "        <td align=\"center\" style=\"border-right: 1px solid gray\">0.86 or higher</td>\n",
    "        <td align=\"center\" style=\"border-right: 2px solid black; border-bottom: 1px solid black\">1.0 or higher</td>\n",
    "    </tr>\n",
    "    </table>"
   ]
  },
  {
   "cell_type": "markdown",
   "metadata": {},
   "source": [
    "## Source Data "
   ]
  },
  {
   "cell_type": "markdown",
   "metadata": {},
   "source": [
    "##### <b>W2H Ratio:</b>\n",
    "- ID, distinctive identification of each person, interger \n",
    "- Waist, total inches in the persons waist, interger\n",
    "- Hip, total inches in the persons hip, interger\n",
    "- Gender, male or female, string\n",
    "\n",
    "$ ratio_{w2h} = \\frac{w}{h} $\n",
    "\n",
    "##### <b>Sources Used:</b>\n",
    "https://en.wikipedia.org/wiki/Waist%E2%80%93hip_ratio\n",
    "\n",
    "https://www.nadf.us/adrenal-diseases/congenital-adrenal-hyperplasia-cah/\n",
    "\n",
    "https://www.healthline.com/health/waist-to-hip-ratio#calculate"
   ]
  },
  {
   "cell_type": "markdown",
   "metadata": {},
   "source": [
    "## Data Import"
   ]
  },
  {
   "cell_type": "code",
   "execution_count": 6,
   "metadata": {
    "collapsed": true
   },
   "outputs": [],
   "source": [
    "# Goal: Extract the data from the file\n",
    "\n",
    "# opens the w2h_data.csv for reading\n",
    "f = open(\"w2h_data.csv\", \"r\")\n",
    "\n",
    "# loads the file into a list of strings, one string per line\n",
    "raw_lines = list(f)\n",
    "\n",
    "# closes the file\n",
    "f.close()"
   ]
  },
  {
   "cell_type": "code",
   "execution_count": 7,
   "metadata": {
    "collapsed": true
   },
   "outputs": [
    {
     "name": "stdout",
     "output_type": "stream",
     "text": [
      "[{'ID': 1, 'Waist': 30, 'Hip': 32, 'Gender': 'M'}, {'ID': 2, 'Waist': 32, 'Hip': 37, 'Gender': 'M'}, {'ID': 3, 'Waist': 30, 'Hip': 36, 'Gender': 'M'}, {'ID': 4, 'Waist': 33, 'Hip': 39, 'Gender': 'M'}, {'ID': 5, 'Waist': 29, 'Hip': 33, 'Gender': 'M'}, {'ID': 6, 'Waist': 32, 'Hip': 38, 'Gender': 'M'}, {'ID': 7, 'Waist': 33, 'Hip': 42, 'Gender': 'M'}, {'ID': 8, 'Waist': 30, 'Hip': 40, 'Gender': 'M'}, {'ID': 9, 'Waist': 30, 'Hip': 37, 'Gender': 'M'}, {'ID': 10, 'Waist': 32, 'Hip': 39, 'Gender': 'M'}, {'ID': 11, 'Waist': 24, 'Hip': 35, 'Gender': 'F'}, {'ID': 12, 'Waist': 25, 'Hip': 37, 'Gender': 'F'}, {'ID': 13, 'Waist': 24, 'Hip': 37, 'Gender': 'F'}, {'ID': 14, 'Waist': 22, 'Hip': 34, 'Gender': 'F'}, {'ID': 15, 'Waist': 26, 'Hip': 38, 'Gender': 'F'}, {'ID': 16, 'Waist': 26, 'Hip': 37, 'Gender': 'F'}, {'ID': 17, 'Waist': 25, 'Hip': 38, 'Gender': 'F'}, {'ID': 18, 'Waist': 26, 'Hip': 37, 'Gender': 'F'}, {'ID': 19, 'Waist': 28, 'Hip': 40, 'Gender': 'F'}, {'ID': 20, 'Waist': 23, 'Hip': 35, 'Gender': 'F'}]\n"
     ]
    }
   ],
   "source": [
    "# Goal: Scrub and convert the data, loading it into a new list called rows\n",
    "\n",
    "# Strips out newline '\\n' characters and converts to a list\n",
    "raw_rows = [r.rstrip('\\n').split(',') for r in raw_lines] # <--- Whoa. Why does this work? \n",
    "\n",
    "# Creates a new list, starting with just the column names\n",
    "rows = list() \n",
    "\n",
    "# The first row is the keys wit the column names\n",
    "keys = raw_rows[0];\n",
    "\n",
    "# Convert each row_row, starting with the second\n",
    "for raw_row in raw_rows[1:]:\n",
    "    \n",
    "    # Note: the values in the raw_row list are all strings.\n",
    "    # Create a new list called row that converts each item in raw_row to the right data type  \n",
    "    #row = [int(raw_row[0]),int(raw_row[1]),int(raw_row[2]),raw_row[3]] # FIX THIS; you'll need to use conversion functions\n",
    "    \n",
    "    # structure the row as a dict  <-- FIX THIS: Write your code below\n",
    "    row = {keys[0]:int(raw_row[0]), keys[1]:int(raw_row[1]), keys[2]:int(raw_row[2]), keys[3]:(raw_row[3])}\n",
    "    \n",
    "    # Append the new row to the rows list as a dictionary <-- FIX THIS: Write your code below\n",
    "    rows.append(row)\n",
    "    \n",
    "    \n",
    "# from here on out use the rows list instead of raw_rows or raw_lines\n",
    "print(rows)"
   ]
  },
  {
   "cell_type": "markdown",
   "metadata": {},
   "source": [
    "## Calculations"
   ]
  },
  {
   "cell_type": "code",
   "execution_count": 8,
   "metadata": {
    "collapsed": true
   },
   "outputs": [
    {
     "name": "stdout",
     "output_type": "stream",
     "text": [
      "{'ID': 1, 'Waist': 30, 'Hip': 32, 'Gender': 'M', 'W2H Ratio': 0.9375, 'Shape': 'Apple'}\n",
      "{'ID': 2, 'Waist': 32, 'Hip': 37, 'Gender': 'M', 'W2H Ratio': 0.8648648648648649, 'Shape': 'Pear'}\n",
      "{'ID': 3, 'Waist': 30, 'Hip': 36, 'Gender': 'M', 'W2H Ratio': 0.8333333333333334, 'Shape': 'Pear'}\n",
      "{'ID': 4, 'Waist': 33, 'Hip': 39, 'Gender': 'M', 'W2H Ratio': 0.8461538461538461, 'Shape': 'Pear'}\n",
      "{'ID': 5, 'Waist': 29, 'Hip': 33, 'Gender': 'M', 'W2H Ratio': 0.8787878787878788, 'Shape': 'Pear'}\n",
      "{'ID': 6, 'Waist': 32, 'Hip': 38, 'Gender': 'M', 'W2H Ratio': 0.8421052631578947, 'Shape': 'Pear'}\n",
      "{'ID': 7, 'Waist': 33, 'Hip': 42, 'Gender': 'M', 'W2H Ratio': 0.7857142857142857, 'Shape': 'Pear'}\n",
      "{'ID': 8, 'Waist': 30, 'Hip': 40, 'Gender': 'M', 'W2H Ratio': 0.75, 'Shape': 'Pear'}\n",
      "{'ID': 9, 'Waist': 30, 'Hip': 37, 'Gender': 'M', 'W2H Ratio': 0.8108108108108109, 'Shape': 'Pear'}\n",
      "{'ID': 10, 'Waist': 32, 'Hip': 39, 'Gender': 'M', 'W2H Ratio': 0.8205128205128205, 'Shape': 'Pear'}\n",
      "{'ID': 11, 'Waist': 24, 'Hip': 35, 'Gender': 'F', 'W2H Ratio': 0.6857142857142857, 'Shape': 'Pear'}\n",
      "{'ID': 12, 'Waist': 25, 'Hip': 37, 'Gender': 'F', 'W2H Ratio': 0.6756756756756757, 'Shape': 'Pear'}\n",
      "{'ID': 13, 'Waist': 24, 'Hip': 37, 'Gender': 'F', 'W2H Ratio': 0.6486486486486487, 'Shape': 'Pear'}\n",
      "{'ID': 14, 'Waist': 22, 'Hip': 34, 'Gender': 'F', 'W2H Ratio': 0.6470588235294118, 'Shape': 'Pear'}\n",
      "{'ID': 15, 'Waist': 26, 'Hip': 38, 'Gender': 'F', 'W2H Ratio': 0.6842105263157895, 'Shape': 'Pear'}\n",
      "{'ID': 16, 'Waist': 26, 'Hip': 37, 'Gender': 'F', 'W2H Ratio': 0.7027027027027027, 'Shape': 'Pear'}\n",
      "{'ID': 17, 'Waist': 25, 'Hip': 38, 'Gender': 'F', 'W2H Ratio': 0.6578947368421053, 'Shape': 'Pear'}\n",
      "{'ID': 18, 'Waist': 26, 'Hip': 37, 'Gender': 'F', 'W2H Ratio': 0.7027027027027027, 'Shape': 'Pear'}\n",
      "{'ID': 19, 'Waist': 28, 'Hip': 40, 'Gender': 'F', 'W2H Ratio': 0.7, 'Shape': 'Pear'}\n",
      "{'ID': 20, 'Waist': 23, 'Hip': 35, 'Gender': 'F', 'W2H Ratio': 0.6571428571428571, 'Shape': 'Pear'}\n"
     ]
    }
   ],
   "source": [
    "# Goal: For each row of data calculate and store the w2h_ratio and shape.\n",
    "\n",
    "# Adds columns for the two new variables\n",
    "keys.extend([\"W2H Ratio\",\"Shape\"])\n",
    "\n",
    "# For each row in the rows list, calculate the waist to hips ratio and shape\n",
    "for row in rows[0:]:\n",
    "    # Calculate the w2h_ratio \n",
    "    w2h_ratio = float(row['Waist'])/float(row['Hip']) # CHECK THIS; compare whether you did this in part 1\n",
    "    \n",
    "    # Based on the ratio and the gender, set the variable shape to either 'apple' or 'pear'\n",
    "    #shape = 'Pear' # CHECK THIS; compare whether you did this in part 1\n",
    "    if ((row['Gender']=='M' and w2h_ratio > 0.9) or (row['Gender'] == 'F' and w2h_ratio > 0.8)) :\n",
    "        shape = \"Apple\"\n",
    "    else:\n",
    "        shape = \"Pear\"\n",
    "    \n",
    "    # Add the new data to the end of the row\n",
    "    row['W2H Ratio'] = w2h_ratio\n",
    "    row['Shape'] = shape # note: += is shorthand for the extend method used above\n",
    "    print(row)"
   ]
  },
  {
   "cell_type": "markdown",
   "metadata": {},
   "source": [
    "## Output"
   ]
  },
  {
   "cell_type": "code",
   "execution_count": 9,
   "metadata": {
    "collapsed": false
   },
   "outputs": [
    {
     "data": {
      "text/html": [
       "<table><tr><th>ID</th><th>Waist</th><th>Hip</th><th>Gender</th><th>W2H Ratio</th><th>Shape</th></tr><tr><td>1</td><td>30</td><td>32</td><td>M</td><td>0.9375</td><td>Apple</td></tr><tr><td>2</td><td>32</td><td>37</td><td>M</td><td>0.8648648648648649</td><td>Pear</td></tr><tr><td>3</td><td>30</td><td>36</td><td>M</td><td>0.8333333333333334</td><td>Pear</td></tr><tr><td>4</td><td>33</td><td>39</td><td>M</td><td>0.8461538461538461</td><td>Pear</td></tr><tr><td>5</td><td>29</td><td>33</td><td>M</td><td>0.8787878787878788</td><td>Pear</td></tr><tr><td>6</td><td>32</td><td>38</td><td>M</td><td>0.8421052631578947</td><td>Pear</td></tr><tr><td>7</td><td>33</td><td>42</td><td>M</td><td>0.7857142857142857</td><td>Pear</td></tr><tr><td>8</td><td>30</td><td>40</td><td>M</td><td>0.75</td><td>Pear</td></tr><tr><td>9</td><td>30</td><td>37</td><td>M</td><td>0.8108108108108109</td><td>Pear</td></tr><tr><td>10</td><td>32</td><td>39</td><td>M</td><td>0.8205128205128205</td><td>Pear</td></tr><tr><td>11</td><td>24</td><td>35</td><td>F</td><td>0.6857142857142857</td><td>Pear</td></tr><tr><td>12</td><td>25</td><td>37</td><td>F</td><td>0.6756756756756757</td><td>Pear</td></tr><tr><td>13</td><td>24</td><td>37</td><td>F</td><td>0.6486486486486487</td><td>Pear</td></tr><tr><td>14</td><td>22</td><td>34</td><td>F</td><td>0.6470588235294118</td><td>Pear</td></tr><tr><td>15</td><td>26</td><td>38</td><td>F</td><td>0.6842105263157895</td><td>Pear</td></tr><tr><td>16</td><td>26</td><td>37</td><td>F</td><td>0.7027027027027027</td><td>Pear</td></tr><tr><td>17</td><td>25</td><td>38</td><td>F</td><td>0.6578947368421053</td><td>Pear</td></tr><tr><td>18</td><td>26</td><td>37</td><td>F</td><td>0.7027027027027027</td><td>Pear</td></tr><tr><td>19</td><td>28</td><td>40</td><td>F</td><td>0.7</td><td>Pear</td></tr><tr><td>20</td><td>23</td><td>35</td><td>F</td><td>0.6571428571428571</td><td>Pear</td></tr></table>"
      ],
      "text/plain": [
       "<IPython.core.display.HTML object>"
      ]
     },
     "metadata": {},
     "output_type": "display_data"
    }
   ],
   "source": [
    "# Goal: pretty print the rows as an HTML table\n",
    "\n",
    "# Note: this works, but we can do this much better with pandas\n",
    "html_table = '<table><tr><th>'\n",
    "html_table += \"</th><th>\".join(rows[0].keys())\n",
    "html_table += '</th></tr>'\n",
    "for row in rows:\n",
    "    html_table += \"<tr><td>\"\n",
    "    html_table += \"</td><td>\".join(str(v) for v in row.values())\n",
    "    html_table += \"</td></tr>\"\n",
    "html_table += \"</table>\"\n",
    "\n",
    "from IPython.display import HTML, display\n",
    "display(HTML(html_table))\n",
    "\n",
    "html_file = open(\"StatsResults.html\", 'w')\n",
    "html_file.write(html_table)\n",
    "html_file.close()"
   ]
  },
  {
   "cell_type": "code",
   "execution_count": 10,
   "metadata": {},
   "outputs": [
    {
     "data": {
      "text/html": [
       "<table><tr><th>ID</th><th>Waist</th><th>Hip</th><th>Gender</th><th>W2H Ratio</th><th>Shape</th></tr><tr><td>1</td><td>30</td><td>32</td><td>M</td><td>0.9375</td><td>Apple</td></tr><tr><td>2</td><td>32</td><td>37</td><td>M</td><td>0.8648648648648649</td><td>Pear</td></tr><tr><td>3</td><td>30</td><td>36</td><td>M</td><td>0.8333333333333334</td><td>Pear</td></tr><tr><td>4</td><td>33</td><td>39</td><td>M</td><td>0.8461538461538461</td><td>Pear</td></tr><tr><td>5</td><td>29</td><td>33</td><td>M</td><td>0.8787878787878788</td><td>Pear</td></tr><tr><td>6</td><td>32</td><td>38</td><td>M</td><td>0.8421052631578947</td><td>Pear</td></tr><tr><td>7</td><td>33</td><td>42</td><td>M</td><td>0.7857142857142857</td><td>Pear</td></tr><tr><td>8</td><td>30</td><td>40</td><td>M</td><td>0.75</td><td>Pear</td></tr><tr><td>9</td><td>30</td><td>37</td><td>M</td><td>0.8108108108108109</td><td>Pear</td></tr><tr><td>10</td><td>32</td><td>39</td><td>M</td><td>0.8205128205128205</td><td>Pear</td></tr><tr><td>11</td><td>24</td><td>35</td><td>F</td><td>0.6857142857142857</td><td>Pear</td></tr><tr><td>12</td><td>25</td><td>37</td><td>F</td><td>0.6756756756756757</td><td>Pear</td></tr><tr><td>13</td><td>24</td><td>37</td><td>F</td><td>0.6486486486486487</td><td>Pear</td></tr><tr><td>14</td><td>22</td><td>34</td><td>F</td><td>0.6470588235294118</td><td>Pear</td></tr><tr><td>15</td><td>26</td><td>38</td><td>F</td><td>0.6842105263157895</td><td>Pear</td></tr><tr><td>16</td><td>26</td><td>37</td><td>F</td><td>0.7027027027027027</td><td>Pear</td></tr><tr><td>17</td><td>25</td><td>38</td><td>F</td><td>0.6578947368421053</td><td>Pear</td></tr><tr><td>18</td><td>26</td><td>37</td><td>F</td><td>0.7027027027027027</td><td>Pear</td></tr><tr><td>19</td><td>28</td><td>40</td><td>F</td><td>0.7</td><td>Pear</td></tr><tr><td>20</td><td>23</td><td>35</td><td>F</td><td>0.6571428571428571</td><td>Pear</td></tr></table>"
      ],
      "text/plain": [
       "<IPython.core.display.HTML object>"
      ]
     },
     "metadata": {},
     "output_type": "display_data"
    }
   ],
   "source": [
    "# Goal: pretty print the rows as an HTML table\n",
    "\n",
    "# Note: this works, but we can do this much better with pandas\n",
    "html_table = '<table><tr><th>'\n",
    "html_table += \"</th><th>\".join(rows[0].keys())\n",
    "html_table += '</th></tr>'\n",
    "for row in rows:\n",
    "    html_table += \"<tr><td>\"\n",
    "    html_table += \"</td><td>\".join(str(v) for v in row.values())\n",
    "    html_table += \"</td></tr>\"\n",
    "html_table += \"</table>\"\n",
    "\n",
    "from IPython.display import HTML, display\n",
    "display(HTML(html_table))\n",
    "\n",
    "#Rendering html into a markdown file\n",
    "html_file = open(\"StatsResults.md\", 'w')\n",
    "html_file.write(html_table)\n",
    "html_file.close()"
   ]
  },
  {
   "cell_type": "code",
   "execution_count": null,
   "metadata": {},
   "outputs": [],
   "source": []
  }
 ],
 "metadata": {
  "kernelspec": {
   "display_name": "Python 3",
   "language": "python",
   "name": "python3"
  },
  "language_info": {
   "codemirror_mode": {
    "name": "ipython",
    "version": 3
   },
   "file_extension": ".py",
   "mimetype": "text/x-python",
   "name": "python",
   "nbconvert_exporter": "python",
   "pygments_lexer": "ipython3",
   "version": "3.6.7"
  }
 },
 "nbformat": 4,
 "nbformat_minor": 2
}
